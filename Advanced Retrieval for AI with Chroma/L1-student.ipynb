{
 "cells": [
  {
   "cell_type": "markdown",
   "id": "ec889d86-0d16-477f-8b7f-be03d73ad957",
   "metadata": {},
   "source": [
    "# Lab 1 - Overview of embeddings-based retrieval"
   ]
  },
  {
   "cell_type": "markdown",
   "id": "58ee2f53-d88b-4f00-94a2-75a66d4149e9",
   "metadata": {},
   "source": [
    "Welcome! Here's a few notes about the Chroma course notebooks.\n",
    " - A number of warnings pop up when running the notebooks. These are normal and can be ignored.\n",
    " - Some operations such as calling an LLM or an opeation using generated data return unpredictable results and so your notebook outputs may differ from the video.\n",
    "  \n",
    "Enjoy the course!"
   ]
  },
  {
   "cell_type": "code",
   "execution_count": 2,
   "id": "37d47f5e",
   "metadata": {},
   "outputs": [
    {
     "name": "stdout",
     "output_type": "stream",
     "text": [
      "Requirement already satisfied: helper_utils in c:\\users\\dell\\appdata\\local\\programs\\python\\python311\\lib\\site-packages (0.0.8)\n",
      "Requirement already satisfied: numpy in c:\\users\\dell\\appdata\\local\\programs\\python\\python311\\lib\\site-packages (from helper_utils) (1.26.1)\n",
      "Requirement already satisfied: pandas in c:\\users\\dell\\appdata\\local\\programs\\python\\python311\\lib\\site-packages (from helper_utils) (2.1.1)\n",
      "Requirement already satisfied: python-dateutil>=2.8.2 in c:\\users\\dell\\appdata\\roaming\\python\\python311\\site-packages (from pandas->helper_utils) (2.8.2)\n",
      "Requirement already satisfied: pytz>=2020.1 in c:\\users\\dell\\appdata\\local\\programs\\python\\python311\\lib\\site-packages (from pandas->helper_utils) (2023.3.post1)\n",
      "Requirement already satisfied: tzdata>=2022.1 in c:\\users\\dell\\appdata\\local\\programs\\python\\python311\\lib\\site-packages (from pandas->helper_utils) (2023.3)\n",
      "Requirement already satisfied: six>=1.5 in c:\\users\\dell\\appdata\\roaming\\python\\python311\\site-packages (from python-dateutil>=2.8.2->pandas->helper_utils) (1.16.0)\n"
     ]
    },
    {
     "name": "stderr",
     "output_type": "stream",
     "text": [
      "\n",
      "[notice] A new release of pip is available: 23.3.1 -> 23.3.2\n",
      "[notice] To update, run: python.exe -m pip install --upgrade pip\n"
     ]
    }
   ],
   "source": [
    "!pip install helper_utils"
   ]
  },
  {
   "cell_type": "code",
   "execution_count": 3,
   "id": "5a5536f0-651c-40e7-aa15-27ee0cda80b7",
   "metadata": {
    "height": 29
   },
   "outputs": [
    {
     "ename": "ImportError",
     "evalue": "cannot import name 'word_wrap' from 'helper_utils' (c:\\Users\\Dell\\AppData\\Local\\Programs\\Python\\Python311\\Lib\\site-packages\\helper_utils\\__init__.py)",
     "output_type": "error",
     "traceback": [
      "\u001b[1;31m---------------------------------------------------------------------------\u001b[0m",
      "\u001b[1;31mImportError\u001b[0m                               Traceback (most recent call last)",
      "Cell \u001b[1;32mIn[3], line 1\u001b[0m\n\u001b[1;32m----> 1\u001b[0m \u001b[38;5;28;01mfrom\u001b[39;00m \u001b[38;5;21;01mhelper_utils\u001b[39;00m \u001b[38;5;28;01mimport\u001b[39;00m word_wrap\n",
      "\u001b[1;31mImportError\u001b[0m: cannot import name 'word_wrap' from 'helper_utils' (c:\\Users\\Dell\\AppData\\Local\\Programs\\Python\\Python311\\Lib\\site-packages\\helper_utils\\__init__.py)"
     ]
    }
   ],
   "source": [
    "#from helper_utils import word_wrap"
   ]
  },
  {
   "cell_type": "code",
   "execution_count": 5,
   "id": "3748b16d-d4a7-49c3-a48a-57dcfc42acd6",
   "metadata": {
    "height": 182
   },
   "outputs": [
    {
     "name": "stdout",
     "output_type": "stream",
     "text": [
      "1 Dear shareholders, colleagues, customers, and partners:  \n",
      "We are living through a period of historic economic, societal, and geopolitical change. The world in 2022 looks nothing like \n",
      "the world in 2019. As I write this, inflation is at a 40 -year high, supply chains are stretched, and the war in Ukraine is \n",
      "ongoing. At the same time, we are entering a technological era with the potential to power awesome advancements \n",
      "across every sector of our economy and society. As the world’s largest software company, this places us at a historic \n",
      "intersection of opportunity and responsibility to the world around us.  \n",
      "Our mission to empower every person and every organization on the planet to achieve more has never been more \n",
      "urgent or more necessary. For all the uncertainty in the world, one thing is clear: People and organizations in every \n",
      "industry are increasingly looking to digital technology to overcome today’s challenges and emerge stronger. And no \n",
      "company is better positioned to help them than Microsoft.  \n",
      "Every day this past fiscal year I have had the privilege to witness our customers use our platforms and tools to connect \n",
      "what technology can do with what the world needs  it to do.  \n",
      "Here are just a few examples:  \n",
      "• Ferrovial, which builds and manages some of the world’s busiest airports and highways, is using our cloud \n",
      "infrastructure to build safer roads as it prepares for a future of autonomous transportation.  \n",
      "• Peace Parks Foundation, a nonprofit helping protect natural ecosystems in Southern Africa, is using Microsoft \n",
      "Dynamics 365 and Power BI to secure essential funding, as well as our Azure AI and IoT solutions to help \n",
      "rangers scale their park maintenance and wildlife crime prevention work.  \n",
      "• One of the world’s largest robotics companies, Kawasaki Heavy Industries, is using the breadth of our tools —\n",
      "from Azure IoT and HoloLens —to create an industrial metaverse solution that brings its distributed workforce \n",
      "together with its network of connected equipment to improve productivity and keep employees safe.  \n",
      "• Globo, the biggest media and TV company in Brazil, is using Power Platform to empower its employees to \n",
      "build their own solutions for everything from booking sets to setting schedules.  \n",
      "• And Ørsted, which produces a quarter of the world’s wind energy, is using the Microsoft Intelligent Data \n",
      "Platform to turn data from its offshore turbines into insights for predictive maintenance.  \n",
      "Amid this dynamic environment, we delivered record results in fiscal year 2022: We reported $198  billion in revenue and \n",
      "$83 billion in operating income. And the Microsoft Cloud surpassed $100  billion in annualized revenue for the first time.  \n",
      "OUR RESPONSIBILITY  \n",
      "As a corporation, our purpose and actions must be aligned with addressing the world’s problems, not creating new ones. \n",
      "At our very core, we need to deliver innovation that helps drive broad economic growth. We, as a company, will do well \n",
      "when the world around us does well.  \n",
      "That’s what I believe will lead to widespread human progress and ultimately improve the lives of everyone. There is no \n",
      "more powerful input than digital technology to drive the world’s economic output. This is the core thesis for our being as a \n",
      "company, but it’s not enough. As we drive global economic growth, we must also commit to creating a more inclusive, \n",
      "equitable, sustainable, and trusted future.  \n",
      "Support inclusive economic growth  \n",
      "We must ensure the growth we drive reaches every person, organization, community, and country. This starts with \n",
      "increasing access to digital skills. This year alone, more than 23  million people accessed digital skills training as part of \n",
      "our global skills initiative.\n"
     ]
    }
   ],
   "source": [
    "from pypdf import PdfReader\n",
    "\n",
    "reader = PdfReader(\"microsoft_annual_report_2022.pdf\")\n",
    "pdf_texts = [p.extract_text().strip() for p in reader.pages]\n",
    "\n",
    "# Filter the empty strings\n",
    "pdf_texts = [text for text in pdf_texts if text]\n",
    "\n",
    "print(pdf_texts[0])"
   ]
  },
  {
   "cell_type": "markdown",
   "id": "bbd608a5-b6c9-4ae9-a871-a3e470a4d12a",
   "metadata": {},
   "source": [
    "You can view the pdf in your browser [here](./microsoft_annual_report_2022.pdf) if you would like. "
   ]
  },
  {
   "cell_type": "code",
   "execution_count": 6,
   "id": "a338ec83-6301-41a5-9ab1-e5d583306a3f",
   "metadata": {
    "height": 63
   },
   "outputs": [],
   "source": [
    "from langchain.text_splitter import RecursiveCharacterTextSplitter, SentenceTransformersTokenTextSplitter\n"
   ]
  },
  {
   "cell_type": "code",
   "execution_count": 7,
   "id": "888a86f8-2fe2-4682-bdaf-c15129ed1a32",
   "metadata": {
    "height": 182
   },
   "outputs": [
    {
     "name": "stdout",
     "output_type": "stream",
     "text": [
      "increased, due in large part to significant global datacenter expansions and the growth in Xbox sales and usage. Despite \n",
      "these increases, we remain dedicated to achieving a net -zero future. We recognize that progress won’t always be linear, \n",
      "and the rate at which we can implement emissions reductions is dependent on many factors that can fluctuate over time.  \n",
      "On the path to becoming water positive, we invested in 21 water replenishment projects that are expected to generate \n",
      "over 1.3  million cubic meters of volumetric benefits in nine water basins around the world. Progress toward our zero waste \n",
      "commitment included diverting more than 15,200 metric tons of solid waste otherwise headed to landfills and incinerators, \n",
      "as well as launching new Circular Centers to increase reuse and reduce e -waste at our datacenters.  \n",
      "We contracted to protect over 17,000 acres of land (50% more than the land we use to operate), thus achieving our\n",
      "\n",
      "Total chunks: 347\n"
     ]
    }
   ],
   "source": [
    "character_splitter = RecursiveCharacterTextSplitter(\n",
    "    separators=[\"\\n\\n\", \"\\n\", \". \", \" \", \"\"],\n",
    "    chunk_size=1000,\n",
    "    chunk_overlap=0\n",
    ")\n",
    "character_split_texts = character_splitter.split_text('\\n\\n'.join(pdf_texts))\n",
    "\n",
    "print(character_split_texts[10])\n",
    "print(f\"\\nTotal chunks: {len(character_split_texts)}\")"
   ]
  },
  {
   "cell_type": "code",
   "execution_count": 8,
   "id": "5665c695-22ea-4264-b1ac-5ba720b6d78b",
   "metadata": {
    "height": 165
   },
   "outputs": [
    {
     "name": "stderr",
     "output_type": "stream",
     "text": [
      "c:\\Users\\Dell\\AppData\\Local\\Programs\\Python\\Python311\\Lib\\site-packages\\tqdm\\auto.py:21: TqdmWarning: IProgress not found. Please update jupyter and ipywidgets. See https://ipywidgets.readthedocs.io/en/stable/user_install.html\n",
      "  from .autonotebook import tqdm as notebook_tqdm\n",
      ".gitattributes: 100%|██████████| 1.18k/1.18k [00:00<?, ?B/s]\n",
      "1_Pooling/config.json: 100%|██████████| 190/190 [00:00<?, ?B/s] \n",
      "README.md: 100%|██████████| 10.6k/10.6k [00:00<00:00, 2.30MB/s]\n",
      "config.json: 100%|██████████| 571/571 [00:00<?, ?B/s] \n",
      "config_sentence_transformers.json: 100%|██████████| 116/116 [00:00<?, ?B/s] \n",
      "data_config.json: 100%|██████████| 39.3k/39.3k [00:00<00:00, 897kB/s]\n",
      "pytorch_model.bin: 100%|██████████| 438M/438M [03:07<00:00, 2.33MB/s] \n",
      "sentence_bert_config.json: 100%|██████████| 53.0/53.0 [00:00<?, ?B/s]\n",
      "special_tokens_map.json: 100%|██████████| 239/239 [00:00<00:00, 238kB/s]\n",
      "tokenizer.json: 100%|██████████| 466k/466k [00:00<00:00, 931kB/s]\n",
      "tokenizer_config.json: 100%|██████████| 363/363 [00:00<00:00, 347kB/s]\n",
      "train_script.py: 100%|██████████| 13.1k/13.1k [00:00<00:00, 13.8MB/s]\n",
      "vocab.txt: 100%|██████████| 232k/232k [00:00<00:00, 3.23MB/s]\n",
      "modules.json: 100%|██████████| 349/349 [00:00<00:00, 349kB/s]\n"
     ]
    },
    {
     "name": "stdout",
     "output_type": "stream",
     "text": [
      "increased, due in large part to significant global datacenter expansions and the growth in xbox sales and usage. despite these increases, we remain dedicated to achieving a net - zero future. we recognize that progress won ’ t always be linear, and the rate at which we can implement emissions reductions is dependent on many factors that can fluctuate over time. on the path to becoming water positive, we invested in 21 water replenishment projects that are expected to generate over 1. 3 million cubic meters of volumetric benefits in nine water basins around the world. progress toward our zero waste commitment included diverting more than 15, 200 metric tons of solid waste otherwise headed to landfills and incinerators, as well as launching new circular centers to increase reuse and reduce e - waste at our datacenters. we contracted to protect over 17, 000 acres of land ( 50 % more than the land we use to operate ), thus achieving our\n",
      "\n",
      "Total chunks: 349\n"
     ]
    }
   ],
   "source": [
    "token_splitter = SentenceTransformersTokenTextSplitter(chunk_overlap=0, tokens_per_chunk=256)\n",
    "\n",
    "token_split_texts = []\n",
    "for text in character_split_texts:\n",
    "    token_split_texts += token_splitter.split_text(text)\n",
    "\n",
    "print(token_split_texts[10])\n",
    "print(f\"\\nTotal chunks: {len(token_split_texts)}\")"
   ]
  },
  {
   "cell_type": "code",
   "execution_count": 9,
   "id": "c2a13d14-4484-46f0-8e67-277337f9d138",
   "metadata": {
    "height": 114
   },
   "outputs": [
    {
     "name": "stdout",
     "output_type": "stream",
     "text": [
      "[[0.042562663555145264, 0.033211849629879, 0.03034009411931038, -0.03486659377813339, 0.06841650605201721, -0.0809091180562973, -0.015474395826458931, -0.0014509354950860143, -0.016744481399655342, 0.06770768761634827, -0.05054138973355293, -0.04919537156820297, 0.05139990523457527, 0.09192727506160736, -0.07177841663360596, 0.03951970115303993, -0.012833571061491966, -0.024947460740804672, -0.04622863978147507, -0.024357523769140244, 0.033949676901102066, 0.025502441450953484, 0.027317125350236893, -0.0041262428276240826, -0.03633835166692734, 0.003690908895805478, -0.027430463582277298, 0.004796725232154131, -0.028896233066916466, -0.018870702013373375, 0.036666274070739746, 0.025695856660604477, 0.03131280839443207, -0.06393437087535858, 0.053944095969200134, 0.08225349336862564, -0.04175683483481407, -0.006995802745223045, -0.02348604053258896, -0.030747944489121437, -0.0029792296700179577, -0.07790940254926682, 0.00935313943773508, 0.0031628985889256, -0.022257020696997643, -0.01829466223716736, -0.009612453170120716, -0.031506847590208054, -0.00551963783800602, -0.032703038305044174, 0.1680298000574112, -0.047459691762924194, -0.050016868859529495, -0.002659627702087164, -0.04104720801115036, -0.07003945112228394, 0.01829594001173973, -0.031431104987859726, -0.04741118475794792, -0.02366366609930992, 0.05944947898387909, -0.07201440632343292, 0.0049451966769993305, -0.05532694235444069, 0.08745485544204712, 0.027872679755091667, -0.03977257385849953, 0.03452996537089348, -0.09992030262947083, 0.03289761766791344, -0.05780421942472458, 0.002454648958519101, -0.027892300859093666, -0.049947068095207214, -0.040582478046417236, 0.011917482130229473, 0.020419051870703697, 0.07765401899814606, 0.06351621448993683, 0.017546910792589188, 0.023460963740944862, -0.00791662186384201, 0.01707422360777855, 0.008641204796731472, -0.06815340369939804, 0.03429614380002022, 0.0006464945035986602, 0.022735418751835823, 0.05279364809393883, -0.058573223650455475, -0.09784109145402908, -0.0014718201709911227, 0.13739889860153198, 0.002079460769891739, -0.07581521570682526, 0.05786576494574547, -0.060696374624967575, -0.06595752388238907, -0.03365056589245796, -0.03185924142599106, 0.01226660143584013, 0.09373301267623901, 0.0679951012134552, -0.08434033393859863, 0.04402477666735649, -0.042638715356588364, 0.011163064278662205, 0.1050521731376648, 0.029505811631679535, -0.018521107733249664, -0.029688306152820587, -0.033770281821489334, 0.0014967103488743305, 0.03732369467616081, -0.020249713212251663, 0.05842076241970062, -0.039791639894247055, -0.021219665184617043, 0.006418079137802124, -0.01029018685221672, 0.019626103341579437, 0.003679700894281268, -0.050310924649238586, -0.016897065564990044, 0.04854496195912361, 0.0668230801820755, 0.019536325708031654, 2.72274962668067e-33, -0.035934098064899445, 0.015661846846342087, 0.0967765673995018, -0.00028516119346022606, -0.009768487885594368, -0.09068475663661957, 0.014486311003565788, 0.012590759433805943, 0.02543586678802967, -0.03443484753370285, 0.004262946080416441, 0.027121365070343018, -0.020409980788826942, 0.07688488066196442, 0.03572102263569832, -0.13492533564567566, 0.05657851696014404, 0.018364503979682922, 0.022577853873372078, -0.035890307277441025, -0.0114566870033741, -0.04993824288249016, -0.01601238176226616, -0.06335373967885971, 0.10463957488536835, -0.0880160853266716, -0.004462313372641802, -0.010301063768565655, -0.01763073541224003, -0.02029227465391159, 0.006704185623675585, 0.0917234867811203, -0.007795028854161501, 0.005949376150965691, -0.015348875895142555, 0.018279559910297394, -0.01892148330807686, 0.03987528756260872, -0.0039673601277172565, 0.03341926261782646, -0.0560772679746151, 0.07581251859664917, -0.005625508259981871, -0.05445527285337448, 0.06698440760374069, -0.025974400341510773, 0.1119956225156784, -0.03642138093709946, 0.005012593697756529, 0.032009974122047424, 0.04963689297437668, 0.09711595624685287, -0.11546942591667175, 0.06413275003433228, -0.033978793770074844, -0.09291564673185349, 0.049754798412323, -0.08613422513008118, -0.008366423659026623, -0.013703771866858006, -0.07882804423570633, 0.019654355943202972, -0.03715045005083084, 0.014476185664534569, -0.0494031198322773, 0.05349241942167282, 0.09139014780521393, 0.031002841889858246, 0.030287647619843483, 0.021342767402529716, -0.043937742710113525, -0.042974427342414856, -0.002265071729198098, -0.02194405347108841, 0.005474614445120096, -0.010243932716548443, 0.0216780137270689, -0.027323683723807335, -0.0007882547797635198, 0.03308919444680214, -0.007402369286864996, 0.009829988703131676, 0.013544107787311077, -0.03274480998516083, 0.056019097566604614, -0.06011651083827019, 0.03112202137708664, 0.03442240133881569, 0.026550548151135445, -0.0068079582415521145, -0.011054234579205513, -0.014439906924962997, 0.022785333916544914, -0.027952013537287712, -0.016208959743380547, -3.689252285857286e-33, 0.02920370176434517, 0.04670489951968193, -0.049644194543361664, 0.06324489414691925, 0.028438018634915352, -0.0223571565002203, 0.03347984701395035, -0.01847873069345951, 0.018780110403895378, 0.002411667024716735, -0.08167838305234909, 0.10084165632724762, 0.0490231066942215, 0.0364672988653183, -0.04556039720773697, -0.07049193233251572, 0.025340411812067032, -0.03267945721745491, -0.04296499490737915, -0.07251016795635223, 0.041307125240564346, 0.05049721896648407, 0.00647715013474226, -0.0033249950502067804, -0.08235663920640945, 0.0800771713256836, -0.034653905779123306, 0.008470499888062477, 0.04138944670557976, -0.010147647932171822, -0.10289657115936279, 0.04567127674818039, 0.01279604434967041, -0.060177676379680634, -0.026627831161022186, -0.09725230932235718, 0.015798600390553474, 0.07219129800796509, -0.015325830318033695, 0.0018071442609652877, 0.06039532646536827, -0.07077643275260925, -0.02127872221171856, -0.03851626068353653, -0.05741111934185028, -0.0042538694106042385, 0.03280765935778618, -0.01759563945233822, 0.04975765570998192, -0.007379038259387016, -0.008354567922651768, 0.04313788190484047, -0.054291579872369766, 0.04316210374236107, 0.023688601329922676, 0.01817159354686737, 0.09282209724187851, -0.004222935996949673, -0.022514550015330315, 0.01928824558854103, -0.03684433549642563, 0.1001519113779068, 0.01776476576924324, 0.02284952811896801, -0.039676859974861145, 0.0016808579675853252, 0.05066923797130585, 0.0856492891907692, -0.0264135655015707, -0.03266862407326698, -0.03694960102438927, -0.02099406160414219, 0.017766078934073448, -0.07413069903850555, -0.024688124656677246, -0.03994889557361603, -0.024768002331256866, -0.02419404871761799, -0.01081643346697092, 0.01081601157784462, -0.03055170178413391, 0.10519371181726456, -0.008021759800612926, -0.0328962579369545, 0.14804388582706451, -0.0709429457783699, -0.050219107419252396, -0.15231892466545105, 0.022767450660467148, 0.13845957815647125, -0.0792330726981163, -0.04160100594162941, -0.09371672570705414, 0.06601829826831818, 0.04352033510804176, -4.9979703931057884e-08, -0.010548091493546963, 0.06008027121424675, 0.028823504224419594, 0.07072245329618454, 0.031575337052345276, -0.059137988835573196, 0.05488334223628044, 0.16316649317741394, 0.03475946560502052, 0.027875415980815887, 0.07126772403717041, -0.006946368608623743, -0.05290437117218971, 0.01161904726177454, -0.026834990829229355, 0.028954336419701576, 0.04344691336154938, -0.07012006640434265, -0.05879402533173561, -0.03921937197446823, -0.01729394681751728, -0.030054455623030663, -0.08112526684999466, -0.0450621172785759, 0.05249617621302605, -0.04923573136329651, 0.08052127063274384, 0.06585510075092316, -0.0006080637685954571, -0.045664116740226746, 0.030587006360292435, -0.006386046763509512, -0.03175576031208038, 0.008228825405240059, 0.010760973207652569, 0.001041265088133514, 0.019078722223639488, 0.03227990120649338, -0.014408741146326065, 0.03579794988036156, -0.07228188961744308, 0.03363297879695892, 0.006663575768470764, -0.01820622943341732, -0.020436251536011696, -0.0026353944558650255, -0.18547716736793518, 0.012449314817786217, 0.029731346294283867, -0.03854848071932793, -0.009753365069627762, -0.013694335706532001, 0.009183318354189396, 0.08488919585943222, 0.1272187978029251, 0.055459972470998764, -0.04936164617538452, -0.01191200502216816, -0.05697929114103317, 0.1042008250951767, 0.05718066543340683, -0.10395048558712006, -0.023767849430441856, -0.02716897800564766]]\n"
     ]
    }
   ],
   "source": [
    "import chromadb\n",
    "from chromadb.utils.embedding_functions import SentenceTransformerEmbeddingFunction\n",
    "\n",
    "embedding_function = SentenceTransformerEmbeddingFunction()\n",
    "print(embedding_function([token_split_texts[10]]))"
   ]
  },
  {
   "cell_type": "code",
   "execution_count": 10,
   "id": "8ba6c8c5-9ce4-44d0-9223-6fdd77871f87",
   "metadata": {
    "height": 148
   },
   "outputs": [
    {
     "data": {
      "text/plain": [
       "349"
      ]
     },
     "execution_count": 10,
     "metadata": {},
     "output_type": "execute_result"
    }
   ],
   "source": [
    "chroma_client = chromadb.Client()\n",
    "chroma_collection = chroma_client.create_collection(\"microsoft_annual_report_2022\", embedding_function=embedding_function)\n",
    "\n",
    "ids = [str(i) for i in range(len(token_split_texts))]\n",
    "\n",
    "chroma_collection.add(ids=ids, documents=token_split_texts)\n",
    "chroma_collection.count()"
   ]
  },
  {
   "cell_type": "code",
   "execution_count": null,
   "id": "bfdb54db-a442-423c-b006-c33a257cd7d7",
   "metadata": {
    "height": 165
   },
   "outputs": [],
   "source": [
    "query = \"What was the total revenue?\"\n",
    "\n",
    "results = chroma_collection.query(query_texts=[query], n_results=5)\n",
    "retrieved_documents = results['documents'][0]\n",
    "\n",
    "for document in retrieved_documents:\n",
    "    print(document)\n",
    "    print('\\n')"
   ]
  },
  {
   "cell_type": "code",
   "execution_count": null,
   "id": "377a84aa-1d93-4e97-9b2d-d59c46355338",
   "metadata": {
    "height": 182
   },
   "outputs": [],
   "source": [
    "import os\n",
    "import openai\n",
    "from openai import OpenAI\n",
    "\n",
    "from dotenv import load_dotenv, find_dotenv\n",
    "_ = load_dotenv(find_dotenv()) # read local .env file\n",
    "openai.api_key = os.environ['OPENAI_API_KEY']\n",
    "\n",
    "openai_client = OpenAI()"
   ]
  },
  {
   "cell_type": "code",
   "execution_count": null,
   "id": "ba0ed8ca-6640-4c09-9cb3-9de5e7cf46dc",
   "metadata": {
    "height": 335
   },
   "outputs": [],
   "source": [
    "def rag(query, retrieved_documents, model=\"gpt-3.5-turbo\"):\n",
    "    information = \"\\n\\n\".join(retrieved_documents)\n",
    "\n",
    "    messages = [\n",
    "        {\n",
    "            \"role\": \"system\",\n",
    "            \"content\": \"You are a helpful expert financial research assistant. Your users are asking questions about information contained in an annual report.\"\n",
    "            \"You will be shown the user's question, and the relevant information from the annual report. Answer the user's question using only this information.\"\n",
    "        },\n",
    "        {\"role\": \"user\", \"content\": f\"Question: {query}. \\n Information: {information}\"}\n",
    "    ]\n",
    "    \n",
    "    response = openai_client.chat.completions.create(\n",
    "        model=model,\n",
    "        messages=messages,\n",
    "    )\n",
    "    content = response.choices[0].message.content\n",
    "    return content"
   ]
  },
  {
   "cell_type": "code",
   "execution_count": null,
   "id": "28bac3a2-0d29-48dc-9b48-2d9313239a25",
   "metadata": {
    "height": 80
   },
   "outputs": [],
   "source": [
    "output = rag(query=query, retrieved_documents=retrieved_documents)\n",
    "\n",
    "print(word_wrap(output))"
   ]
  },
  {
   "cell_type": "code",
   "execution_count": null,
   "id": "db9f2758-0f5a-49e5-b1fa-517b91324575",
   "metadata": {
    "height": 29
   },
   "outputs": [],
   "source": []
  },
  {
   "cell_type": "code",
   "execution_count": null,
   "id": "aee59493-8a99-4da8-b94f-4747efcfc79d",
   "metadata": {
    "height": 29
   },
   "outputs": [],
   "source": []
  },
  {
   "cell_type": "code",
   "execution_count": null,
   "id": "f5eda9bc-ae76-4db6-9e0c-ae099d852d78",
   "metadata": {
    "height": 29
   },
   "outputs": [],
   "source": []
  },
  {
   "cell_type": "code",
   "execution_count": null,
   "id": "b1183e75-4c65-422e-bc47-48010d8b29c9",
   "metadata": {
    "height": 29
   },
   "outputs": [],
   "source": []
  },
  {
   "cell_type": "code",
   "execution_count": null,
   "id": "5fcd85cc-8898-41ed-a0aa-bd8a33fc565a",
   "metadata": {
    "height": 29
   },
   "outputs": [],
   "source": []
  },
  {
   "cell_type": "code",
   "execution_count": null,
   "id": "c65337e9-85ee-47f7-89fd-7fe77cd0e1b2",
   "metadata": {
    "height": 29
   },
   "outputs": [],
   "source": []
  },
  {
   "cell_type": "code",
   "execution_count": null,
   "id": "a7794092-4195-4cf3-9eab-11c9c05a26b9",
   "metadata": {
    "height": 29
   },
   "outputs": [],
   "source": []
  },
  {
   "cell_type": "code",
   "execution_count": null,
   "id": "f2cab7a1-1be7-45f0-83b7-543e48f83901",
   "metadata": {
    "height": 29
   },
   "outputs": [],
   "source": []
  },
  {
   "cell_type": "code",
   "execution_count": null,
   "id": "fe0343be-73c9-4aed-83b0-aba09569ac87",
   "metadata": {
    "height": 29
   },
   "outputs": [],
   "source": []
  },
  {
   "cell_type": "code",
   "execution_count": null,
   "id": "6f0f3e33-e517-4f6b-8b38-c47c1e3d40b4",
   "metadata": {
    "height": 29
   },
   "outputs": [],
   "source": []
  },
  {
   "cell_type": "code",
   "execution_count": null,
   "id": "a16fdcb1-57d0-4f04-af8f-7c7fc594d947",
   "metadata": {
    "height": 29
   },
   "outputs": [],
   "source": []
  },
  {
   "cell_type": "code",
   "execution_count": null,
   "id": "babe7893-9cbc-43c5-94ef-cbf8f5d68cf2",
   "metadata": {
    "height": 29
   },
   "outputs": [],
   "source": []
  },
  {
   "cell_type": "code",
   "execution_count": null,
   "id": "60a9524b-1085-4bdf-a161-39f11397dc1f",
   "metadata": {
    "height": 29
   },
   "outputs": [],
   "source": []
  },
  {
   "cell_type": "code",
   "execution_count": null,
   "id": "d189f088-b58e-4583-9590-afdfa624cf87",
   "metadata": {
    "height": 29
   },
   "outputs": [],
   "source": []
  },
  {
   "cell_type": "code",
   "execution_count": null,
   "id": "7b26a01a-4575-446b-b8dc-a8c5ab153172",
   "metadata": {
    "height": 29
   },
   "outputs": [],
   "source": []
  },
  {
   "cell_type": "code",
   "execution_count": null,
   "id": "0950575b-b69d-46a3-8c91-c7af89f5c204",
   "metadata": {
    "height": 29
   },
   "outputs": [],
   "source": []
  },
  {
   "cell_type": "code",
   "execution_count": null,
   "id": "3f123ad8-b2e8-4a25-8b42-a520ecaf566b",
   "metadata": {
    "height": 29
   },
   "outputs": [],
   "source": []
  },
  {
   "cell_type": "code",
   "execution_count": null,
   "id": "83c04587-d1de-419c-a213-2e3eb67dc33d",
   "metadata": {
    "height": 29
   },
   "outputs": [],
   "source": []
  },
  {
   "cell_type": "code",
   "execution_count": null,
   "id": "d3155972-824e-4ebe-a692-2227c113c5a8",
   "metadata": {
    "height": 29
   },
   "outputs": [],
   "source": []
  },
  {
   "cell_type": "code",
   "execution_count": null,
   "id": "d8144a4a-85f6-4800-87f9-36a1b6ceda1f",
   "metadata": {
    "height": 29
   },
   "outputs": [],
   "source": []
  },
  {
   "cell_type": "code",
   "execution_count": null,
   "id": "8ff0b18e-12a0-4ac0-97dd-8618b22e7dbf",
   "metadata": {
    "height": 29
   },
   "outputs": [],
   "source": []
  },
  {
   "cell_type": "code",
   "execution_count": null,
   "id": "03ca7e7c-4b47-4652-9b46-a40b3dffa5e6",
   "metadata": {
    "height": 29
   },
   "outputs": [],
   "source": []
  },
  {
   "cell_type": "code",
   "execution_count": null,
   "id": "f74e7d67-7f51-41c4-8e25-edbaa02d0bd8",
   "metadata": {
    "height": 29
   },
   "outputs": [],
   "source": []
  },
  {
   "cell_type": "code",
   "execution_count": null,
   "id": "9188e886-d406-406f-b234-f5c3353a77a2",
   "metadata": {
    "height": 29
   },
   "outputs": [],
   "source": []
  },
  {
   "cell_type": "code",
   "execution_count": null,
   "id": "3d3bb286-2694-4ed4-8466-46865e997ced",
   "metadata": {
    "height": 29
   },
   "outputs": [],
   "source": []
  },
  {
   "cell_type": "code",
   "execution_count": null,
   "id": "2876084b-4038-4b0c-8ec8-8294a86adfc1",
   "metadata": {
    "height": 29
   },
   "outputs": [],
   "source": []
  },
  {
   "cell_type": "code",
   "execution_count": null,
   "id": "3ac542e1-b094-431f-9611-cf7e36d3f0de",
   "metadata": {
    "height": 29
   },
   "outputs": [],
   "source": []
  },
  {
   "cell_type": "code",
   "execution_count": null,
   "id": "bcd6114b-c09d-4173-a623-9a08aaf63e4b",
   "metadata": {
    "height": 29
   },
   "outputs": [],
   "source": []
  },
  {
   "cell_type": "code",
   "execution_count": null,
   "id": "ad10ab65-b351-4f4b-b7d2-63474acfb9f9",
   "metadata": {
    "height": 29
   },
   "outputs": [],
   "source": []
  },
  {
   "cell_type": "code",
   "execution_count": null,
   "id": "800f3d81-cbdb-4ba4-8d49-85747fdfded8",
   "metadata": {
    "height": 29
   },
   "outputs": [],
   "source": []
  },
  {
   "cell_type": "code",
   "execution_count": null,
   "id": "37847448-c9f6-4f51-bf06-f7809964a8b2",
   "metadata": {
    "height": 29
   },
   "outputs": [],
   "source": []
  },
  {
   "cell_type": "code",
   "execution_count": null,
   "id": "2dcefc87-0964-4b94-946b-2145781ad606",
   "metadata": {
    "height": 29
   },
   "outputs": [],
   "source": []
  },
  {
   "cell_type": "code",
   "execution_count": null,
   "id": "5fc994bc-7b1e-476a-9df9-300a3e374882",
   "metadata": {
    "height": 29
   },
   "outputs": [],
   "source": []
  },
  {
   "cell_type": "code",
   "execution_count": null,
   "id": "9ef5f5d5-acb7-4b0a-93ef-e61306708e69",
   "metadata": {
    "height": 29
   },
   "outputs": [],
   "source": []
  },
  {
   "cell_type": "code",
   "execution_count": null,
   "id": "44e4b33f-d8fb-4f3a-b884-8b43a3766583",
   "metadata": {
    "height": 29
   },
   "outputs": [],
   "source": []
  },
  {
   "cell_type": "code",
   "execution_count": null,
   "id": "c2a480a2-2c29-4a01-80dd-ee41934b7901",
   "metadata": {
    "height": 29
   },
   "outputs": [],
   "source": []
  },
  {
   "cell_type": "code",
   "execution_count": null,
   "id": "8127c2bf-0d15-4b62-b46a-f7a17ad2ec92",
   "metadata": {
    "height": 29
   },
   "outputs": [],
   "source": []
  },
  {
   "cell_type": "code",
   "execution_count": null,
   "id": "18ded129-a637-4269-a116-550fe9a90570",
   "metadata": {
    "height": 29
   },
   "outputs": [],
   "source": []
  },
  {
   "cell_type": "code",
   "execution_count": null,
   "id": "c1d7ee44-7b29-483f-a3f2-cc9d8e18880e",
   "metadata": {
    "height": 29
   },
   "outputs": [],
   "source": []
  },
  {
   "cell_type": "code",
   "execution_count": null,
   "id": "8e450dd8-9719-42c6-8c3c-33cac910e0a5",
   "metadata": {
    "height": 29
   },
   "outputs": [],
   "source": []
  }
 ],
 "metadata": {
  "kernelspec": {
   "display_name": "Python 3 (ipykernel)",
   "language": "python",
   "name": "python3"
  },
  "language_info": {
   "codemirror_mode": {
    "name": "ipython",
    "version": 3
   },
   "file_extension": ".py",
   "mimetype": "text/x-python",
   "name": "python",
   "nbconvert_exporter": "python",
   "pygments_lexer": "ipython3",
   "version": "3.11.6"
  }
 },
 "nbformat": 4,
 "nbformat_minor": 5
}
